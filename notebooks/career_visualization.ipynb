{
 "cells": [
  {
   "cell_type": "code",
   "execution_count": 2,
   "metadata": {
    "collapsed": false
   },
   "outputs": [
    {
     "name": "stdout",
     "output_type": "stream",
     "text": [
      "Setup Complete\n"
     ]
    },
    {
     "ename": "ModuleNotFoundError",
     "evalue": "No module named 'pymysql'",
     "output_type": "error",
     "traceback": [
      "\u001b[0;31m---------------------------------------------------------------------------\u001b[0m",
      "\u001b[0;31mModuleNotFoundError\u001b[0m                       Traceback (most recent call last)",
      "\u001b[0;32m<ipython-input-2-9a708ab99a29>\u001b[0m in \u001b[0;36m<module>\u001b[0;34m\u001b[0m\n\u001b[1;32m     17\u001b[0m \u001b[0;31m#On peut ensuite importer le dossier comme un module\u001b[0m\u001b[0;34m\u001b[0m\u001b[0;34m\u001b[0m\u001b[0;34m\u001b[0m\u001b[0m\n\u001b[1;32m     18\u001b[0m \u001b[0;34m\u001b[0m\u001b[0m\n\u001b[0;32m---> 19\u001b[0;31m \u001b[0;32mfrom\u001b[0m \u001b[0msrc\u001b[0m\u001b[0;34m.\u001b[0m\u001b[0md01_data\u001b[0m\u001b[0;34m.\u001b[0m\u001b[0mload_data\u001b[0m \u001b[0;32mimport\u001b[0m \u001b[0mmysql_connect\u001b[0m\u001b[0;34m,\u001b[0m \u001b[0msave_to_mysql\u001b[0m\u001b[0;34m\u001b[0m\u001b[0;34m\u001b[0m\u001b[0m\n\u001b[0m\u001b[1;32m     20\u001b[0m \u001b[0mengine\u001b[0m \u001b[0;34m=\u001b[0m \u001b[0mmysql_connect\u001b[0m\u001b[0;34m(\u001b[0m\u001b[0;34m)\u001b[0m\u001b[0;34m\u001b[0m\u001b[0;34m\u001b[0m\u001b[0m\n\u001b[1;32m     21\u001b[0m \u001b[0;34m\u001b[0m\u001b[0m\n",
      "\u001b[0;32m~/PycharmProjects/american_dream/src/d01_data/load_data.py\u001b[0m in \u001b[0;36m<module>\u001b[0;34m\u001b[0m\n\u001b[1;32m      4\u001b[0m \u001b[0;32mimport\u001b[0m \u001b[0msqlalchemy\u001b[0m\u001b[0;34m\u001b[0m\u001b[0;34m\u001b[0m\u001b[0m\n\u001b[1;32m      5\u001b[0m \u001b[0;32mimport\u001b[0m \u001b[0msys\u001b[0m\u001b[0;34m\u001b[0m\u001b[0;34m\u001b[0m\u001b[0m\n\u001b[0;32m----> 6\u001b[0;31m \u001b[0;32mimport\u001b[0m \u001b[0mpymysql\u001b[0m\u001b[0;34m\u001b[0m\u001b[0;34m\u001b[0m\u001b[0m\n\u001b[0m\u001b[1;32m      7\u001b[0m \u001b[0;34m\u001b[0m\u001b[0m\n\u001b[1;32m      8\u001b[0m \u001b[0;32mdef\u001b[0m \u001b[0mmysql_connect\u001b[0m\u001b[0;34m(\u001b[0m\u001b[0;34m)\u001b[0m\u001b[0;34m:\u001b[0m\u001b[0;34m\u001b[0m\u001b[0;34m\u001b[0m\u001b[0m\n",
      "\u001b[0;31mModuleNotFoundError\u001b[0m: No module named 'pymysql'"
     ]
    }
   ],
   "source": [
    "\n",
    "\n",
    "#Importation des Modules nécessaires\n",
    "import pandas as pd\n",
    "import sqlalchemy\n",
    "import mysql.connector\n",
    "import matplotlib.pyplot as plt\n",
    "%matplotlib inline\n",
    "import seaborn as sns\n",
    "print(\"Setup Complete\")\n",
    "\n",
    "#Pour que python reconnaisse un dossier comme un module il faut ajouter en son sein un fichier __init__.py \n",
    "#et également l'ajouter au PATH\n",
    "\n",
    "import sys\n",
    "sys.path.insert(0, \"/home/apprenant/PycharmProjects/american_dream\")\n",
    "\n",
    "\n",
    "#On peut ensuite importer le dossier comme un module\n",
    "\n",
    "from src.d01_data.load_data import mysql_connect, save_to_mysql\n",
    "engine = mysql_connect()\n",
    "\n"
   ]
  },
  {
   "cell_type": "markdown",
   "metadata": {},
   "source": [
    "J'affiche un échantillon de mes données pour analyser la pertinence des différentes colonnes"
   ]
  },
  {
   "cell_type": "code",
   "execution_count": 3,
   "metadata": {
    "collapsed": false
   },
   "outputs": [
    {
     "ename": "NameError",
     "evalue": "name 'engine' is not defined",
     "output_type": "error",
     "traceback": [
      "\u001b[0;31m---------------------------------------------------------------------------\u001b[0m",
      "\u001b[0;31mNameError\u001b[0m                                 Traceback (most recent call last)",
      "\u001b[0;32m<ipython-input-3-d00d2e2e26d4>\u001b[0m in \u001b[0;36m<module>\u001b[0;34m\u001b[0m\n\u001b[0;32m----> 1\u001b[0;31m \u001b[0mdf\u001b[0m \u001b[0;34m=\u001b[0m \u001b[0mpd\u001b[0m\u001b[0;34m.\u001b[0m\u001b[0mread_sql\u001b[0m\u001b[0;34m(\u001b[0m\u001b[0;34m\"DataAnalystV1\"\u001b[0m\u001b[0;34m,\u001b[0m\u001b[0mcon\u001b[0m\u001b[0;34m=\u001b[0m\u001b[0mengine\u001b[0m\u001b[0;34m)\u001b[0m\u001b[0;34m\u001b[0m\u001b[0;34m\u001b[0m\u001b[0m\n\u001b[0m",
      "\u001b[0;31mNameError\u001b[0m: name 'engine' is not defined"
     ]
    }
   ],
   "source": [
    "df = pd.read_sql(\"DataAnalystV1\",con=engine)"
   ]
  },
  {
   "cell_type": "markdown",
   "metadata": {},
   "source": [
    "J'affiche un échantillon de mes données pour analyser la pertinence des différentes colonnes"
   ]
  },
  {
   "cell_type": "code",
   "execution_count": null,
   "metadata": {
    "collapsed": true
   },
   "outputs": [],
   "source": [
    "df1 = pd.read_sql(\"SalarySurveyV1\",con=engine)"
   ]
  },
  {
   "cell_type": "markdown",
   "metadata": {},
   "source": [
    "le salaire moyen, le salaire median, et représentez les dix déciles. Faites l'exercice pour les deux bases et comparez les résultats."
   ]
  },
  {
   "cell_type": "code",
   "execution_count": 4,
   "metadata": {
    "collapsed": false
   },
   "outputs": [
    {
     "name": "stdout",
     "output_type": "stream",
     "text": [
      "90000.0\n",
      "93946.15499200184\n"
     ]
    }
   ],
   "source": [
    "# le salaire moyen\n",
    "median_salaire_df1 = df1.SalaryUSD.median()\n",
    "print(median_salaire_df1)\n",
    "\n",
    "\n",
    "#le salaire moyen\n",
    "moyenne_salaire_df1 = df1.SalaryUSD.mean()\n",
    "print(moyenne_salaire_df1)"
   ]
  },
  {
   "cell_type": "code",
   "execution_count": 26,
   "metadata": {
    "collapsed": false
   },
   "outputs": [
    {
     "data": {
      "text/plain": [
       "count    8.627000e+03\n",
       "mean     9.394615e+04\n",
       "std      5.998446e+04\n",
       "min      0.000000e+00\n",
       "25%      6.500000e+04\n",
       "50%      9.000000e+04\n",
       "75%      1.150000e+05\n",
       "max      1.850000e+06\n",
       "Name: SalaryUSD, dtype: float64"
      ]
     },
     "execution_count": 26,
     "metadata": {},
     "output_type": "execute_result"
    }
   ],
   "source": [
    "df1.SalaryUSD.describe()"
   ]
  },
  {
   "cell_type": "code",
   "execution_count": 236,
   "metadata": {
    "collapsed": true
   },
   "outputs": [],
   "source": [
    "df1[\"JobTitle\"] = df1[\"JobTitle\"].apply( lambda x: \"Developer\" if x.startswith('Developer') else x )\n",
    "df1[\"JobTitle\"] = df1[\"JobTitle\"].apply( lambda x: \"Database Admin\" if x.startswith('DBA') else x )\n"
   ]
  },
  {
   "cell_type": "code",
   "execution_count": 36,
   "metadata": {
    "collapsed": false,
    "scrolled": true
   },
   "outputs": [
    {
     "name": "stdout",
     "output_type": "stream",
     "text": [
      "                                      SalaryUSD\n",
      "JobTitle                                       \n",
      "Analyst                            74813.185934\n",
      "Analytics consultant               61000.000000\n",
      "Architect                         121853.759152\n",
      "Consultant                        160000.000000\n",
      "Data Scientist                    110398.290909\n",
      "Database Admin                     91947.070856\n",
      "Database Specialist                79750.000000\n",
      "DevOps, Sr Software Engineer DBA  120000.000000\n",
      "Developer                          85524.337416\n",
      "Engineer                          102749.765306\n",
      "Manager                           118893.132032\n",
      "Other                              89509.181259\n",
      "Principal database engineer       175000.000000\n",
      "Sales                             300000.000000\n",
      "Sr Consultant                     122000.000000\n",
      "Systems Administrator              85500.000000\n",
      "Technician                         24000.000000\n"
     ]
    }
   ],
   "source": [
    "calcul_moyenne_job = df1[[\"JobTitle\", \"SalaryUSD\"]].groupby('JobTitle').mean()\n",
    "print(calcul_moyenne_job)"
   ]
  },
  {
   "cell_type": "code",
   "execution_count": 40,
   "metadata": {
    "collapsed": true
   },
   "outputs": [
    {
     "name": "stdout",
     "output_type": "stream",
     "text": [
      "                            JobTitle      SalaryUSD\n",
      "0                            Analyst   74813.185934\n",
      "1               Analytics consultant   61000.000000\n",
      "2                          Architect  121853.759152\n",
      "3                         Consultant  160000.000000\n",
      "4                     Data Scientist  110398.290909\n",
      "5                     Database Admin   91947.070856\n",
      "6                Database Specialist   79750.000000\n",
      "7   DevOps, Sr Software Engineer DBA  120000.000000\n",
      "8                          Developer   85524.337416\n",
      "9                           Engineer  102749.765306\n",
      "10                           Manager  118893.132032\n",
      "11                             Other   89509.181259\n",
      "12       Principal database engineer  175000.000000\n",
      "13                             Sales  300000.000000\n",
      "14                    Sr Consultant   122000.000000\n",
      "15             Systems Administrator   85500.000000\n",
      "16                       Technician    24000.000000\n"
     ]
    }
   ],
   "source": [
    "df_plot = calcul_moyenne_job.reset_index(level=['JobTitle'])\n",
    "print(df_plot)"
   ]
  },
  {
   "cell_type": "code",
   "execution_count": 41,
   "metadata": {
    "collapsed": false
   },
   "outputs": [
    {
     "name": "stdout",
     "output_type": "stream",
     "text": [
      "Index(['JobTitle', 'SalaryUSD'], dtype='object')\n"
     ]
    }
   ],
   "source": [
    "print(df_plot.columns)"
   ]
  },
  {
   "cell_type": "code",
   "execution_count": 1,
   "metadata": {
    "collapsed": false,
    "scrolled": true
   },
   "outputs": [
    {
     "ename": "NameError",
     "evalue": "name 'df_plot' is not defined",
     "output_type": "error",
     "traceback": [
      "\u001b[0;31m---------------------------------------------------------------------------\u001b[0m",
      "\u001b[0;31mNameError\u001b[0m                                 Traceback (most recent call last)",
      "\u001b[0;32m<ipython-input-1-cf8e239e8f7f>\u001b[0m in \u001b[0;36m<module>\u001b[0;34m\u001b[0m\n\u001b[0;32m----> 1\u001b[0;31m \u001b[0mmy_beautiful_plot\u001b[0m \u001b[0;34m=\u001b[0m \u001b[0mdf_plot\u001b[0m\u001b[0;34m.\u001b[0m\u001b[0mgroupby\u001b[0m\u001b[0;34m(\u001b[0m\u001b[0;34m\"JobTitle\"\u001b[0m\u001b[0;34m)\u001b[0m\u001b[0;34m.\u001b[0m\u001b[0mJobTitle\u001b[0m\u001b[0;34m.\u001b[0m\u001b[0mcount\u001b[0m\u001b[0;34m(\u001b[0m\u001b[0;34m)\u001b[0m\u001b[0;34m.\u001b[0m\u001b[0msort_values\u001b[0m\u001b[0;34m(\u001b[0m\u001b[0;34m)\u001b[0m\u001b[0;34m\u001b[0m\u001b[0;34m\u001b[0m\u001b[0m\n\u001b[0m\u001b[1;32m      2\u001b[0m \u001b[0mmy_beautiful_plot\u001b[0m\u001b[0;34m.\u001b[0m\u001b[0mplot\u001b[0m\u001b[0;34m.\u001b[0m\u001b[0mbar\u001b[0m\u001b[0;34m(\u001b[0m\u001b[0mautopct\u001b[0m\u001b[0;34m=\u001b[0m\u001b[0;34m\"%.1f%%\"\u001b[0m\u001b[0;34m)\u001b[0m\u001b[0;34m;\u001b[0m\u001b[0;34m\u001b[0m\u001b[0;34m\u001b[0m\u001b[0m\n",
      "\u001b[0;31mNameError\u001b[0m: name 'df_plot' is not defined"
     ]
    }
   ],
   "source": [
    "my_beautiful_plot = df_plot.groupby(\"JobTitle\").JobTitle.count().sort_values()\n",
    "my_beautiful_plot.plot.bar(autopct=\"%.1f%%\");"
   ]
  },
  {
   "cell_type": "code",
   "execution_count": 44,
   "metadata": {
    "collapsed": false
   },
   "outputs": [
    {
     "name": "stdout",
     "output_type": "stream",
     "text": [
      "Index(['index', 'JobTitle', 'Location', 'CompanyName', 'Size', 'Revenue',\n",
      "       'Sector', 'SalaryEstimate', 'TypeOfOwnership'],\n",
      "      dtype='object')\n",
      "Index(['index', 'SalaryUSD', 'Country', 'PostalCode', 'EmploymentStatus',\n",
      "       'JobTitle', 'ManageStaff', 'YearsWithThisTypeOfJob', 'HowManyCompanies',\n",
      "       'OtherPeopleOnYourTeam', 'CompanyEmployeesOverall',\n",
      "       'PopulationOfLargestCityWithin20Miles', 'EmploymentSector',\n",
      "       'LookingForAnotherJob', 'CareerPlansThisYear', 'Gender',\n",
      "       'OtherJobDuties'],\n",
      "      dtype='object')\n"
     ]
    }
   ],
   "source": [
    "print(df.columns)"
   ]
  },
  {
   "cell_type": "markdown",
   "metadata": {},
   "source": [
    "Est-il préférable de travailler pour une seule ou plusieurs compagnie"
   ]
  },
  {
   "cell_type": "code",
   "execution_count": 91,
   "metadata": {
    "collapsed": false
   },
   "outputs": [
    {
     "name": "stdout",
     "output_type": "stream",
     "text": [
      "                                                        SalaryUSD\n",
      "HowManyCompanies                                                 \n",
      "1 (this is the only company where I've had this...   88498.161820\n",
      "2 (I worked at another similar position elsewhe...   95336.045286\n",
      "3                                                   103691.297593\n",
      "4                                                   103766.934343\n",
      "5                                                   113451.034783\n",
      "6 or more                                           124004.395778\n",
      "Not Asked                                            92402.030167\n"
     ]
    }
   ],
   "source": [
    "d_compagnie = df1[['HowManyCompanies', 'SalaryUSD']].groupby('HowManyCompanies').mean()\n",
    "print(d_compagnie)"
   ]
  },
  {
   "cell_type": "code",
   "execution_count": 170,
   "metadata": {
    "collapsed": false
   },
   "outputs": [
    {
     "data": {
      "image/png": "[encoded data removed]",
      "text/plain": [
       "<Figure size 432x288 with 1 Axes>"
      ]
     },
     "metadata": {
      "needs_background": "light"
     },
     "output_type": "display_data"
    }
   ],
   "source": [
    "\n",
    "sns.lineplot(data=d_compagnie)\n",
    "plt.xticks(rotation=120);"
   ]
  },
  {
   "cell_type": "code",
   "execution_count": 97,
   "metadata": {
    "collapsed": false
   },
   "outputs": [
    {
     "name": "stdout",
     "output_type": "stream",
     "text": [
      "<pandas.core.groupby.generic.DataFrameGroupBy object at 0x7f2a3f630460>\n"
     ]
    }
   ],
   "source": [
    "#Le nombre de personne dans son équipe a-t-il une influence sur votre salaire?\n",
    "d_team = df1[['OtherPeopleOnYourTeam', 'SalaryUSD']].groupby('OtherPeopleOnYourTeam')\n",
    "print(d_team)"
   ]
  },
  {
   "cell_type": "code",
   "execution_count": 136,
   "metadata": {
    "collapsed": false
   },
   "outputs": [
    {
     "data": {
      "image/png": "[encoded data removed]",
      "text/plain": [
       "<Figure size 448.75x360 with 1 Axes>"
      ]
     },
     "metadata": {
      "needs_background": "light"
     },
     "output_type": "display_data"
    }
   ],
   "source": [
    "sns.displot(data=d_compagnie)\n",
    "plt.xticks(rotation=90);"
   ]
  },
  {
   "cell_type": "code",
   "execution_count": 115,
   "metadata": {
    "collapsed": false
   },
   "outputs": [
    {
     "name": "stdout",
     "output_type": "stream",
     "text": [
      "                                                        SalaryUSD\n",
      "Gender                                                           \n",
      "Alien                                                54000.000000\n",
      "Always On Cluster                                    35250.000000\n",
      "Any human one                                       350000.000000\n",
      "Apache Helicopter                                   150000.000000\n",
      "Attack Helicopter                                    81000.000000\n",
      "Attack Helicopter (M)                                69000.000000\n",
      "Attack Helicopter. (serious dude, gender questi...  125000.000000\n",
      "Attack helicopter                                    87500.000000\n",
      "Attackhelicopter with rabbitears and afro-icela...   50000.000000\n",
      "Cyborg                                              120000.000000\n",
      "Dalek                                               110000.000000\n",
      "Database Administrator                               46659.000000\n",
      "Dragon                                               65000.000000\n",
      "Female                                               97861.037404\n",
      "Grayson Perry                                        54000.000000\n",
      "I am Batman                                         100000.000000\n",
      "Lizzard                                              60000.000000\n",
      "Male                                                 95401.441802\n",
      "Meat Popsicle                                        85000.000000\n",
      "Muppet                                               87600.000000\n",
      "Non-binary/third gender                             106482.666667\n",
      "Not Asked                                            90716.307453\n",
      "Pastafarian                                          38800.000000\n",
      "Prefer not to say                                    85904.106557\n",
      "Reptilian                                            50000.000000\n",
      "There are only two genders for people, either m...   24000.000000\n",
      "This question is inappropriate.                      90000.000000\n",
      "Vulcan                                              205000.000000\n",
      "confused                                            195000.000000\n",
      "human  This is also my race.                         91000.000000\n",
      "mosquito                                            105000.000000\n",
      "toad frog                                           118000.000000\n"
     ]
    }
   ],
   "source": [
    "#Il y-a-t-il une inégalité salariale entre les hommes et les femmes dans les emplois liées à la data aux Etats U\n",
    "d_gender = df1[['Gender', 'SalaryUSD', 'Country']].groupby('Gender').mean()\n",
    "print(d_gender)"
   ]
  },
  {
   "cell_type": "code",
   "execution_count": 118,
   "metadata": {
    "collapsed": false
   },
   "outputs": [
    {
     "data": {
      "image/png": "[encoded data removed]",
      "text/plain": [
       "<Figure size 432x288 with 1 Axes>"
      ]
     },
     "metadata": {
      "needs_background": "light"
     },
     "output_type": "display_data"
    }
   ],
   "source": [
    "sns.scatterplot(data=d_gender)\n",
    "plt.xticks(rotation=90);"
   ]
  },
  {
   "cell_type": "code",
   "execution_count": 167,
   "metadata": {
    "collapsed": false
   },
   "outputs": [
    {
     "name": "stdout",
     "output_type": "stream",
     "text": [
      "                        SalaryUSD\n",
      "YearsWithThisTypeOfJob           \n",
      "5                         79500.0\n",
      "6                        110000.0\n",
      "3                         70000.0\n",
      "3                         70000.0\n",
      "25                        75000.0\n",
      "...                           ...\n",
      "10                        87500.0\n",
      "2                        100000.0\n",
      "25                        75000.0\n",
      "3                         70000.0\n",
      "5                         79500.0\n",
      "\n",
      "[8627 rows x 1 columns]\n"
     ]
    }
   ],
   "source": [
    "#Le nombre d'année d'expérience dans ce type d'emploi a t il une influence sur votre salaire?\n",
    "\n",
    "d_experience = df1[['SalaryUSD']].reindex(df1['YearsWithThisTypeOfJob'])\n",
    "print(d_experience)"
   ]
  },
  {
   "cell_type": "code",
   "execution_count": 172,
   "metadata": {
    "collapsed": false
   },
   "outputs": [
    {
     "data": {
      "image/png": "[encoded data removed]",
      "text/plain": [
       "<Figure size 432x288 with 1 Axes>"
      ]
     },
     "metadata": {
      "needs_background": "light"
     },
     "output_type": "display_data"
    }
   ],
   "source": [
    "sns.scatterplot(data=d_experience);"
   ]
  },
  {
   "cell_type": "code",
   "execution_count": 181,
   "metadata": {
    "collapsed": false
   },
   "outputs": [
    {
     "name": "stdout",
     "output_type": "stream",
     "text": [
      "      index  SalaryUSD        Country PostalCode  \\\n",
      "0         0   115000.0  United States         03   \n",
      "1         1   100000.0  United States       None   \n",
      "2         2   100000.0          Spain      28046   \n",
      "3         3    70000.0  United States      94133   \n",
      "4         4   110000.0  United States      95354   \n",
      "...     ...        ...            ...        ...   \n",
      "5724   5724   156000.0  United States       1463   \n",
      "5725   5725    49000.0  United States      75904   \n",
      "5726   5726    60000.0          Spain      28080   \n",
      "5727   5727    95000.0      Australia       7000   \n",
      "5728   5728   115000.0  United States      84095   \n",
      "\n",
      "                                       EmploymentStatus        JobTitle  \\\n",
      "0                                    Full time employee  Database Admin   \n",
      "1                                    Full time employee       Developer   \n",
      "2                                    Full time employee           Other   \n",
      "3                                    Full time employee         Analyst   \n",
      "4                                    Full time employee  Database Admin   \n",
      "...                                                 ...             ...   \n",
      "5724                                 Full time employee       Architect   \n",
      "5725                                 Full time employee  Database Admin   \n",
      "5726  Full time employee of a consulting/contracting...  Database Admin   \n",
      "5727  Full time employee of a consulting/contracting...  Database Admin   \n",
      "5728                                 Full time employee  Database Admin   \n",
      "\n",
      "     ManageStaff  YearsWithThisTypeOfJob  \\\n",
      "0             No                       5   \n",
      "1             No                       6   \n",
      "2            Yes                       3   \n",
      "3             No                       3   \n",
      "4             No                      25   \n",
      "...          ...                     ...   \n",
      "5724          No                       5   \n",
      "5725          No                       3   \n",
      "5726          No                      12   \n",
      "5727          No                       1   \n",
      "5728          No                       1   \n",
      "\n",
      "                                       HowManyCompanies OtherPeopleOnYourTeam  \\\n",
      "0     1 (this is the only company where I've had thi...                     2   \n",
      "1     1 (this is the only company where I've had thi...           More than 5   \n",
      "2     1 (this is the only company where I've had thi...                     1   \n",
      "3     1 (this is the only company where I've had thi...                     2   \n",
      "4                                                     3                  None   \n",
      "...                                                 ...                   ...   \n",
      "5724                                          Not Asked           More than 5   \n",
      "5725                                          Not Asked                  None   \n",
      "5726                                          Not Asked           More than 5   \n",
      "5727                                          Not Asked                  None   \n",
      "5728                                          Not Asked                  None   \n",
      "\n",
      "     CompanyEmployeesOverall PopulationOfLargestCityWithin20Miles  \\\n",
      "0                  Not Asked                 20K-99K (large town)   \n",
      "1                  Not Asked                     1M+ (metropolis)   \n",
      "2                  Not Asked                     1M+ (metropolis)   \n",
      "3                  Not Asked                     1M+ (metropolis)   \n",
      "4                  Not Asked                     100K-299K (city)   \n",
      "...                      ...                                  ...   \n",
      "5724               Not Asked                            Not Asked   \n",
      "5725               Not Asked                            Not Asked   \n",
      "5726               Not Asked                            Not Asked   \n",
      "5727               Not Asked                            Not Asked   \n",
      "5728               Not Asked                            Not Asked   \n",
      "\n",
      "               EmploymentSector                    LookingForAnotherJob  \\\n",
      "0              Private business                               Not Asked   \n",
      "1              Private business                               Not Asked   \n",
      "2              Private business                               Not Asked   \n",
      "3              Private business                               Not Asked   \n",
      "4                    Non-profit                               Not Asked   \n",
      "...                         ...                                     ...   \n",
      "5724           Private business                                      No   \n",
      "5725           Private business                                      No   \n",
      "5726           Private business                                      No   \n",
      "5727  State/province government  Yes, but only passively (just curious)   \n",
      "5728           Private business                                      No   \n",
      "\n",
      "                                 CareerPlansThisYear Gender  \\\n",
      "0             Stay with the same employer, same role   Male   \n",
      "1                                  Prefer not to say   Male   \n",
      "2             Stay with the same employer, same role   Male   \n",
      "3                    Change both employers and roles   Male   \n",
      "4             Stay with the same employer, same role   Male   \n",
      "...                                              ...    ...   \n",
      "5724  Stay with the same employer,  but change roles   Male   \n",
      "5725          Stay with the same employer, same role   Male   \n",
      "5726          Stay with the same employer, same role   Male   \n",
      "5727                               Prefer not to say   Male   \n",
      "5728          Stay with the same employer, same role   Male   \n",
      "\n",
      "                                         OtherJobDuties  \n",
      "0                                             Not Asked  \n",
      "1                                             Not Asked  \n",
      "2                                             Not Asked  \n",
      "3                                             Not Asked  \n",
      "4                                             Not Asked  \n",
      "...                                                 ...  \n",
      "5724                                               None  \n",
      "5725                                   Developer: T-SQL  \n",
      "5726  Architect, DBA (Development Focus - tunes quer...  \n",
      "5727  DBA (General - splits time evenly between writ...  \n",
      "5728  DBA (Development Focus - tunes queries, indexe...  \n",
      "\n",
      "[5060 rows x 17 columns]\n"
     ]
    },
    {
     "ename": "NameError",
     "evalue": "name 'd_salaire_homme' is not defined",
     "output_type": "error",
     "traceback": [
      "\u001b[0;31m---------------------------------------------------------------------------\u001b[0m",
      "\u001b[0;31mNameError\u001b[0m                                 Traceback (most recent call last)",
      "\u001b[0;32m<ipython-input-181-b18ffec576ff>\u001b[0m in \u001b[0;36m<module>\u001b[0;34m\u001b[0m\n\u001b[1;32m      4\u001b[0m \u001b[0mprint\u001b[0m\u001b[0;34m(\u001b[0m\u001b[0md_salaire_homme_m\u001b[0m\u001b[0;34m)\u001b[0m\u001b[0;34m\u001b[0m\u001b[0;34m\u001b[0m\u001b[0m\n\u001b[1;32m      5\u001b[0m \u001b[0;34m\u001b[0m\u001b[0m\n\u001b[0;32m----> 6\u001b[0;31m \u001b[0mmedian_h\u001b[0m\u001b[0;34m=\u001b[0m \u001b[0md_salaire_homme\u001b[0m\u001b[0;34m[\u001b[0m\u001b[0;34m[\u001b[0m\u001b[0;34m'SalaryUSD'\u001b[0m\u001b[0;34m]\u001b[0m\u001b[0;34m]\u001b[0m\u001b[0;34m\u001b[0m\u001b[0;34m\u001b[0m\u001b[0m\n\u001b[0m\u001b[1;32m      7\u001b[0m \u001b[0mprint\u001b[0m\u001b[0;34m(\u001b[0m\u001b[0mmedian_h\u001b[0m\u001b[0;34m)\u001b[0m\u001b[0;34m\u001b[0m\u001b[0;34m\u001b[0m\u001b[0m\n",
      "\u001b[0;31mNameError\u001b[0m: name 'd_salaire_homme' is not defined"
     ]
    }
   ],
   "source": [
    "#Si cette inégalité salariale existe (suspense), est-elle due au fait que les femmes soient moins bien représentées dans les jobs les mieux payés ou que pour un travail identique elles sont en moyenne moins bien payées?\n",
    "\n",
    "#je récupère les salaires des hommes\n",
    "d_salaire_homme_m = df1[df1.Gender=='Male']\n",
    "print(d_salaire_homme_m)"
   ]
  },
  {
   "cell_type": "code",
   "execution_count": 208,
   "metadata": {
    "collapsed": false
   },
   "outputs": [
    {
     "name": "stdout",
     "output_type": "stream",
     "text": [
      "           SalaryUSD\n",
      "Gender              \n",
      "Male    95401.441802\n"
     ]
    }
   ],
   "source": [
    "#moyenne des salaires des hommes\n",
    "mean_h= d_salaire_homme_m[['Gender','SalaryUSD']].groupby('Gender').mean()\n",
    "print(mean_h)"
   ]
  },
  {
   "cell_type": "code",
   "execution_count": 209,
   "metadata": {
    "collapsed": false
   },
   "outputs": [
    {
     "name": "stdout",
     "output_type": "stream",
     "text": [
      "      index  SalaryUSD         Country PostalCode  \\\n",
      "13       13    53000.0   United States      87544   \n",
      "38       38    78000.0   United States       None   \n",
      "46       46    85000.0   United States      98052   \n",
      "52       52   148000.0   United States      60642   \n",
      "53       53   148000.0   United States      60642   \n",
      "...     ...        ...             ...        ...   \n",
      "5654   5654    48000.0   United States       None   \n",
      "5669   5669   102960.0   United States         54   \n",
      "5681   5681   155000.0   United States      80202   \n",
      "5691   5691    45000.0  United Kingdom  Yorkshire   \n",
      "5712   5712    50000.0   United States      37027   \n",
      "\n",
      "                                       EmploymentStatus        JobTitle  \\\n",
      "13                                   Full time employee  Database Admin   \n",
      "38                                   Full time employee  Database Admin   \n",
      "46                                   Full time employee       Developer   \n",
      "52                                   Full time employee  Data Scientist   \n",
      "53                                   Full time employee  Data Scientist   \n",
      "...                                                 ...             ...   \n",
      "5654                                 Full time employee  Database Admin   \n",
      "5669                                 Full time employee  Database Admin   \n",
      "5681  Full time employee of a consulting/contracting...         Manager   \n",
      "5691                                 Full time employee  Database Admin   \n",
      "5712                                 Full time employee         Analyst   \n",
      "\n",
      "     ManageStaff  YearsWithThisTypeOfJob  \\\n",
      "13            No                       1   \n",
      "38            No                       2   \n",
      "46           Yes                       6   \n",
      "52            No                       7   \n",
      "53            No                       7   \n",
      "...          ...                     ...   \n",
      "5654          No                       0   \n",
      "5669          No                       6   \n",
      "5681         Yes                       5   \n",
      "5691          No                      25   \n",
      "5712          No                       1   \n",
      "\n",
      "                                       HowManyCompanies OtherPeopleOnYourTeam  \\\n",
      "13    1 (this is the only company where I've had thi...                     3   \n",
      "38    1 (this is the only company where I've had thi...                     2   \n",
      "46    1 (this is the only company where I've had thi...                  None   \n",
      "52    2 (I worked at another similar position elsewh...                     1   \n",
      "53    2 (I worked at another similar position elsewh...                     1   \n",
      "...                                                 ...                   ...   \n",
      "5654                                          Not Asked                  None   \n",
      "5669                                          Not Asked                     1   \n",
      "5681                                          Not Asked                     4   \n",
      "5691                                          Not Asked                     1   \n",
      "5712                                          Not Asked                     1   \n",
      "\n",
      "     CompanyEmployeesOverall PopulationOfLargestCityWithin20Miles  \\\n",
      "13                 Not Asked                     <= 20,000 (town)   \n",
      "38                 Not Asked                 300K-1M (large city)   \n",
      "46                 Not Asked                     100K-299K (city)   \n",
      "52                 Not Asked                     1M+ (metropolis)   \n",
      "53                 Not Asked                     1M+ (metropolis)   \n",
      "...                      ...                                  ...   \n",
      "5654               Not Asked                            Not Asked   \n",
      "5669               Not Asked                            Not Asked   \n",
      "5681               Not Asked                            Not Asked   \n",
      "5691               Not Asked                            Not Asked   \n",
      "5712               Not Asked                            Not Asked   \n",
      "\n",
      "        EmploymentSector                    LookingForAnotherJob  \\\n",
      "13    Federal government                               Not Asked   \n",
      "38      Private business                               Not Asked   \n",
      "46      Private business                               Not Asked   \n",
      "52      Private business                               Not Asked   \n",
      "53      Private business                               Not Asked   \n",
      "...                  ...                                     ...   \n",
      "5654    Private business                                      No   \n",
      "5669          Non-profit                                      No   \n",
      "5681    Private business  Yes, but only passively (just curious)   \n",
      "5691  Federal government                                      No   \n",
      "5712    Private business                                      No   \n",
      "\n",
      "                                 CareerPlansThisYear  Gender  \\\n",
      "13    Stay with the same employer,  but change roles  Female   \n",
      "38            Stay with the same employer, same role  Female   \n",
      "46            Stay with the same employer, same role  Female   \n",
      "52    Stay with the same employer,  but change roles  Female   \n",
      "53    Stay with the same employer,  but change roles  Female   \n",
      "...                                              ...     ...   \n",
      "5654          Stay with the same employer, same role  Female   \n",
      "5669          Stay with the same employer, same role  Female   \n",
      "5681  Stay with the same employer,  but change roles  Female   \n",
      "5691          Stay with the same employer, same role  Female   \n",
      "5712          Stay with the same employer, same role  Female   \n",
      "\n",
      "                                         OtherJobDuties  \n",
      "13                                            Not Asked  \n",
      "38                                            Not Asked  \n",
      "46                                            Not Asked  \n",
      "52                                            Not Asked  \n",
      "53                                            Not Asked  \n",
      "...                                                 ...  \n",
      "5654                                               None  \n",
      "5669  DBA (Development Focus - tunes queries, indexe...  \n",
      "5681                                Architect, Engineer  \n",
      "5691  Developer: Business Intelligence (SSRS, PowerB...  \n",
      "5712                                               None  \n",
      "\n",
      "[564 rows x 17 columns]\n"
     ]
    }
   ],
   "source": [
    "#je récupère les salaires des femmes\n",
    "d_salaire_femme = df1[df1.Gender=='Female']\n",
    "print(d_salaire_femme)"
   ]
  },
  {
   "cell_type": "code",
   "execution_count": 210,
   "metadata": {
    "collapsed": false
   },
   "outputs": [
    {
     "name": "stdout",
     "output_type": "stream",
     "text": [
      "           SalaryUSD\n",
      "Gender              \n",
      "Female  97861.037404\n"
     ]
    }
   ],
   "source": [
    "#moyenne salaire femme\n",
    "mean_f= d_salaire_femme[['Gender','SalaryUSD']].groupby('Gender').mean()\n",
    "print(mean_f)"
   ]
  },
  {
   "cell_type": "code",
   "execution_count": 211,
   "metadata": {
    "collapsed": false
   },
   "outputs": [
    {
     "name": "stdout",
     "output_type": "stream",
     "text": [
      "           SalaryUSD\n",
      "Gender              \n",
      "Male    95401.441802\n",
      "Female  97861.037404\n"
     ]
    }
   ],
   "source": [
    "#je crée un dataframe de la moyenne des salaire par sexe\n",
    "moyenne_salaire_sexe = pd.concat([mean_h, mean_f])\n",
    "print(moyenne_salaire_sexe)"
   ]
  },
  {
   "cell_type": "code",
   "execution_count": 212,
   "metadata": {
    "collapsed": false
   },
   "outputs": [
    {
     "data": {
      "image/png": "[encoded data removed]",
      "text/plain": [
       "<Figure size 432x288 with 1 Axes>"
      ]
     },
     "metadata": {},
     "output_type": "display_data"
    }
   ],
   "source": [
    "moyenne_salaire_sexe.plot.pie(autopct=\"%.1f%%\", radius=2, subplots=True);"
   ]
  },
  {
   "cell_type": "code",
   "execution_count": 214,
   "metadata": {
    "collapsed": false
   },
   "outputs": [
    {
     "data": {
      "image/png": "[encoded data removed]",
      "text/plain": [
       "<Figure size 432x288 with 1 Axes>"
      ]
     },
     "metadata": {
      "needs_background": "light"
     },
     "output_type": "display_data"
    }
   ],
   "source": [
    "#Y a t il une différence entre l'évolution salariale liées à l'expérience dans un même emploi entre les hommes et les femmes?\n",
    "sns.lineplot(data=d_experience)\n",
    "plt.xticks(rotation=90);"
   ]
  },
  {
   "cell_type": "code",
   "execution_count": 216,
   "metadata": {
    "collapsed": false
   },
   "outputs": [
    {
     "data": {
      "text/plain": [
       "\"\\nÉtant donné que je suis une femme et que la moyenne des salaires des femmes est plus haute que celle des hommes, j'ai plus de chance d'avoir un poste à responsabilité et d'être mieux payée. Le souci c'est que la législation américaine en matière d'emploi n'est pas au top niveau et que niveau santé c'est pas encore ça. Donc personnellement, je resterais en france, histoire de cotiser et de m'assurer une vie décente en cas d'imprévu. \\n\""
      ]
     },
     "execution_count": 216,
     "metadata": {},
     "output_type": "execute_result"
    }
   ],
   "source": [
    "#Résumé en quelques lignes votre plan de carrière pour conquérir le rêve américain.\n",
    "\"\"\"\n",
    "Étant donné que je suis une femme et que la moyenne des salaires des femmes est plus haute que celle des hommes, j'ai plus de chance d'avoir un poste à responsabilité et d'être mieux payée. Le souci c'est que la législation américaine en matière d'emploi n'est pas au top niveau et que niveau santé c'est pas encore ça. Donc personnellement, je resterais en france, histoire de cotiser et de m'assurer une vie décente en cas d'imprévu. \n",
    "\"\"\""
   ]
  },
  {
   "cell_type": "code",
   "execution_count": 219,
   "metadata": {
    "collapsed": false
   },
   "outputs": [
    {
     "name": "stdout",
     "output_type": "stream",
     "text": [
      "                   SalaryUSD\n",
      "Country                     \n",
      "Albania         12000.000000\n",
      "Anguilla            1.000000\n",
      "Argentina       23703.846154\n",
      "Armenia           447.000000\n",
      "Australia       90588.459548\n",
      "...                      ...\n",
      "United States  108578.980329\n",
      "Uruguay        100777.666667\n",
      "Vanuatu        103000.000000\n",
      "Venezuela        5000.000000\n",
      "Vietnam         36000.000000\n",
      "\n",
      "[93 rows x 1 columns]\n"
     ]
    }
   ],
   "source": [
    "#Représentez une \"heat-map\" des Etats-Unis en fonction du salaire moyen\n",
    "#Je sélectionne les pays et les salaires dans un dataframe\n",
    "\n",
    "d_country= df1[['Country','SalaryUSD']].groupby('Country').mean()\n",
    "print(d_country)"
   ]
  },
  {
   "cell_type": "code",
   "execution_count": 227,
   "metadata": {
    "collapsed": false
   },
   "outputs": [
    {
     "name": "stdout",
     "output_type": "stream",
     "text": [
      "      index  SalaryUSD        Country PostalCode  \\\n",
      "0         0   115000.0  United States         03   \n",
      "1         1   100000.0  United States       None   \n",
      "3         3    70000.0  United States      94133   \n",
      "4         4   110000.0  United States      95354   \n",
      "5         5    79500.0  United States      78727   \n",
      "...     ...        ...            ...        ...   \n",
      "8609   8609    66000.0  United States  Not Asked   \n",
      "8611   8611    96000.0  United States  Not Asked   \n",
      "8612   8612    85000.0  United States  Not Asked   \n",
      "8614   8614   137500.0  United States  Not Asked   \n",
      "8626   8626   200000.0  United States  Not Asked   \n",
      "\n",
      "                                       EmploymentStatus        JobTitle  \\\n",
      "0                                    Full time employee  Database Admin   \n",
      "1                                    Full time employee       Developer   \n",
      "3                                    Full time employee         Analyst   \n",
      "4                                    Full time employee  Database Admin   \n",
      "5                                    Full time employee         Analyst   \n",
      "...                                                 ...             ...   \n",
      "8609                                 Full time employee       Developer   \n",
      "8611                                 Full time employee  Database Admin   \n",
      "8612                                 Full time employee  Database Admin   \n",
      "8614  Full time employee of a consulting/contracting...  Database Admin   \n",
      "8626                                 Full time employee  Database Admin   \n",
      "\n",
      "     ManageStaff  YearsWithThisTypeOfJob  \\\n",
      "0             No                       5   \n",
      "1             No                       6   \n",
      "3             No                       3   \n",
      "4             No                      25   \n",
      "5             No                       2   \n",
      "...          ...                     ...   \n",
      "8609          No                      10   \n",
      "8611          No                       5   \n",
      "8612          No                       2   \n",
      "8614          No                       6   \n",
      "8626          No                       5   \n",
      "\n",
      "                                       HowManyCompanies OtherPeopleOnYourTeam  \\\n",
      "0     1 (this is the only company where I've had thi...                     2   \n",
      "1     1 (this is the only company where I've had thi...           More than 5   \n",
      "3     1 (this is the only company where I've had thi...                     2   \n",
      "4                                                     3                  None   \n",
      "5     1 (this is the only company where I've had thi...                  None   \n",
      "...                                                 ...                   ...   \n",
      "8609                                          Not Asked                  None   \n",
      "8611                                          Not Asked                  None   \n",
      "8612                                          Not Asked                  None   \n",
      "8614                                          Not Asked                     4   \n",
      "8626                                          Not Asked                     2   \n",
      "\n",
      "     CompanyEmployeesOverall PopulationOfLargestCityWithin20Miles  \\\n",
      "0                  Not Asked                 20K-99K (large town)   \n",
      "1                  Not Asked                     1M+ (metropolis)   \n",
      "3                  Not Asked                     1M+ (metropolis)   \n",
      "4                  Not Asked                     100K-299K (city)   \n",
      "5                  Not Asked                     1M+ (metropolis)   \n",
      "...                      ...                                  ...   \n",
      "8609               Not Asked                            Not Asked   \n",
      "8611               Not Asked                            Not Asked   \n",
      "8612               Not Asked                            Not Asked   \n",
      "8614               Not Asked                            Not Asked   \n",
      "8626               Not Asked                            Not Asked   \n",
      "\n",
      "      EmploymentSector                    LookingForAnotherJob  \\\n",
      "0     Private business                               Not Asked   \n",
      "1     Private business                               Not Asked   \n",
      "3     Private business                               Not Asked   \n",
      "4           Non-profit                               Not Asked   \n",
      "5     Private business                               Not Asked   \n",
      "...                ...                                     ...   \n",
      "8609  Private business  Yes, but only passively (just curious)   \n",
      "8611  Private business  Yes, but only passively (just curious)   \n",
      "8612  Private business  Yes, but only passively (just curious)   \n",
      "8614  Private business                                      No   \n",
      "8626  Private business  Yes, but only passively (just curious)   \n",
      "\n",
      "                         CareerPlansThisYear     Gender OtherJobDuties  \n",
      "0     Stay with the same employer, same role       Male      Not Asked  \n",
      "1                          Prefer not to say       Male      Not Asked  \n",
      "3            Change both employers and roles       Male      Not Asked  \n",
      "4     Stay with the same employer, same role       Male      Not Asked  \n",
      "5     Stay with the same employer, same role       Male      Not Asked  \n",
      "...                                      ...        ...            ...  \n",
      "8609                               Not Asked  Not Asked      Not Asked  \n",
      "8611                               Not Asked  Not Asked      Not Asked  \n",
      "8612                               Not Asked  Not Asked      Not Asked  \n",
      "8614                               Not Asked  Not Asked      Not Asked  \n",
      "8626                               Not Asked  Not Asked      Not Asked  \n",
      "\n",
      "[5680 rows x 17 columns]\n"
     ]
    }
   ],
   "source": [
    "#toutes les lignes liées aux US\n",
    "d_us_mean=df1[df1.Country=='United States']\n",
    "print(d_us_mean)\n"
   ]
  },
  {
   "cell_type": "code",
   "execution_count": 228,
   "metadata": {
    "collapsed": false
   },
   "outputs": [
    {
     "name": "stdout",
     "output_type": "stream",
     "text": [
      "                   SalaryUSD\n",
      "Country                     \n",
      "United States  108578.980329\n"
     ]
    }
   ],
   "source": [
    "#moyenne du salaire aux US\n",
    "mean_us= d_us_mean[['Country','SalaryUSD']].groupby('Country').mean()\n",
    "print(mean_us)"
   ]
  },
  {
   "cell_type": "code",
   "execution_count": 235,
   "metadata": {
    "collapsed": false
   },
   "outputs": [
    {
     "data": {
      "image/png": "[encoded data removed]",
      "text/plain": [
       "<Figure size 432x288 with 2 Axes>"
      ]
     },
     "metadata": {
      "needs_background": "light"
     },
     "output_type": "display_data"
    }
   ],
   "source": [
    "#j'ai tenté le heatmap\n",
    "mean_us_all= d_us_mean[['SalaryUSD']]\n",
    "\n",
    "sns.heatmap(data=mean_us_all)\n",
    "plt.xticks(rotation=90);\n"
   ]
  },
  {
   "cell_type": "code",
   "execution_count": null,
   "metadata": {
    "collapsed": true
   },
   "outputs": [],
   "source": []
  },
  {
   "cell_type": "code",
   "execution_count": null,
   "metadata": {
    "collapsed": true
   },
   "outputs": [],
   "source": []
  }
 ],
 "metadata": {
  "anaconda-cloud": {},
  "kernelspec": {
   "display_name": "Python 3",
   "language": "python",
   "name": "python3"
  },
  "language_info": {
   "codemirror_mode": {
    "name": "ipython",
    "version": 3
   },
   "file_extension": ".py",
   "mimetype": "text/x-python",
   "name": "python",
   "nbconvert_exporter": "python",
   "pygments_lexer": "ipython3",
   "version": "3.8.5"
  }
 },
 "nbformat": 4,
 "nbformat_minor": 1
}
